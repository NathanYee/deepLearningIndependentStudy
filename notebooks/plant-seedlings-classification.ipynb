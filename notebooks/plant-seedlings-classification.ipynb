{
 "cells": [
  {
   "cell_type": "code",
   "execution_count": 1,
   "metadata": {},
   "outputs": [],
   "source": [
    "from fastai.conv_learner import *\n",
    "from fastai.plots import *\n",
    "from sklearn.metrics import confusion_matrix\n",
    "from tools.data_wrangling import folders_to_csv"
   ]
  },
  {
   "cell_type": "code",
   "execution_count": 2,
   "metadata": {},
   "outputs": [],
   "source": [
    "PATH = 'data/plant-seedlings-classification/'\n",
    "label_csv = os.path.join(PATH, 'labels.csv')\n",
    "train_path = os.path.join(PATH, 'train')"
   ]
  },
  {
   "cell_type": "markdown",
   "metadata": {},
   "source": [
    "![folder_training_style](../pictures/plant-seedlings-classification/folder_style.png)"
   ]
  },
  {
   "cell_type": "code",
   "execution_count": 3,
   "metadata": {},
   "outputs": [
    {
     "name": "stdout",
     "output_type": "stream",
     "text": [
      "label.csv already exists - exiting\n"
     ]
    }
   ],
   "source": [
    "folders_to_csv(train_path, label_csv)"
   ]
  },
  {
   "cell_type": "markdown",
   "metadata": {},
   "source": [
    "![csv_training_style](../pictures/plant-seedlings-classification/csv_style.png)"
   ]
  },
  {
   "cell_type": "code",
   "execution_count": 4,
   "metadata": {},
   "outputs": [],
   "source": [
    "sz = 224\n",
    "arch = resnet50\n",
    "bs = 64"
   ]
  },
  {
   "cell_type": "code",
   "execution_count": 5,
   "metadata": {},
   "outputs": [],
   "source": [
    "# n = len(list(open(label_csv)))-1\n",
    "# val_idxs = get_cv_idxs(n)"
   ]
  },
  {
   "cell_type": "code",
   "execution_count": 10,
   "metadata": {},
   "outputs": [],
   "source": [
    "val_idxs = 0"
   ]
  },
  {
   "cell_type": "code",
   "execution_count": 11,
   "metadata": {},
   "outputs": [],
   "source": [
    "!rm -rf {PATH}tmp"
   ]
  },
  {
   "cell_type": "code",
   "execution_count": 12,
   "metadata": {},
   "outputs": [],
   "source": [
    "def get_data(sz, bs, arch, label_csv):\n",
    "    tfms = tfms_from_model(arch, sz, aug_tfms=transforms_top_down, max_zoom=1.1)\n",
    "    data = ImageClassifierData.from_csv(PATH, 'train', label_csv, test_name='test',\n",
    "                                        val_idxs=val_idxs, tfms=tfms, bs=bs)\n",
    "    return data.resize(int(sz*1.3)) if sz > 300 else data.resize(340, 'tmp')"
   ]
  },
  {
   "cell_type": "code",
   "execution_count": 13,
   "metadata": {},
   "outputs": [
    {
     "data": {
      "application/vnd.jupyter.widget-view+json": {
       "model_id": "075867f621e44e30b938e4cfe1ed0114",
       "version_major": 2,
       "version_minor": 0
      },
      "text/html": [
       "<p>Failed to display Jupyter Widget of type <code>HBox</code>.</p>\n",
       "<p>\n",
       "  If you're reading this message in the Jupyter Notebook or JupyterLab Notebook, it may mean\n",
       "  that the widgets JavaScript is still loading. If this message persists, it\n",
       "  likely means that the widgets JavaScript library is either not installed or\n",
       "  not enabled. See the <a href=\"https://ipywidgets.readthedocs.io/en/stable/user_install.html\">Jupyter\n",
       "  Widgets Documentation</a> for setup instructions.\n",
       "</p>\n",
       "<p>\n",
       "  If you're reading this message in another frontend (for example, a static\n",
       "  rendering on GitHub or <a href=\"https://nbviewer.jupyter.org/\">NBViewer</a>),\n",
       "  it may mean that your frontend doesn't currently support widgets.\n",
       "</p>\n"
      ],
      "text/plain": [
       "HBox(children=(IntProgress(value=0, max=6), HTML(value='')))"
      ]
     },
     "metadata": {},
     "output_type": "display_data"
    },
    {
     "name": "stdout",
     "output_type": "stream",
     "text": [
      "                                                    \n"
     ]
    }
   ],
   "source": [
    "data = get_data(sz, bs, arch, label_csv)"
   ]
  },
  {
   "cell_type": "markdown",
   "metadata": {},
   "source": [
    "![cached pictures](../pictures/plant-seedlings-classification/cached_pictures.png)"
   ]
  },
  {
   "cell_type": "code",
   "execution_count": 14,
   "metadata": {},
   "outputs": [
    {
     "name": "stdout",
     "output_type": "stream",
     "text": [
      "100%|██████████| 75/75 [00:17<00:00,  4.35it/s]\n",
      "100%|██████████| 1/1 [00:00<00:00, 59.89it/s]\n",
      "100%|██████████| 13/13 [00:02<00:00,  4.40it/s]\n"
     ]
    }
   ],
   "source": [
    "learn = ConvLearner.pretrained(arch, data, precompute=True, ps=.5)"
   ]
  },
  {
   "cell_type": "markdown",
   "metadata": {},
   "source": [
    "initial training for the newly added layer - don't want to mess it up"
   ]
  },
  {
   "cell_type": "code",
   "execution_count": null,
   "metadata": {},
   "outputs": [],
   "source": [
    "learn.lr_find()"
   ]
  },
  {
   "cell_type": "code",
   "execution_count": null,
   "metadata": {},
   "outputs": [],
   "source": [
    "learn.sched.plot()"
   ]
  },
  {
   "cell_type": "code",
   "execution_count": 15,
   "metadata": {
    "scrolled": true
   },
   "outputs": [
    {
     "data": {
      "application/vnd.jupyter.widget-view+json": {
       "model_id": "0278c49d851e4368819d8f1c5a6cdced",
       "version_major": 2,
       "version_minor": 0
      },
      "text/html": [
       "<p>Failed to display Jupyter Widget of type <code>HBox</code>.</p>\n",
       "<p>\n",
       "  If you're reading this message in the Jupyter Notebook or JupyterLab Notebook, it may mean\n",
       "  that the widgets JavaScript is still loading. If this message persists, it\n",
       "  likely means that the widgets JavaScript library is either not installed or\n",
       "  not enabled. See the <a href=\"https://ipywidgets.readthedocs.io/en/stable/user_install.html\">Jupyter\n",
       "  Widgets Documentation</a> for setup instructions.\n",
       "</p>\n",
       "<p>\n",
       "  If you're reading this message in another frontend (for example, a static\n",
       "  rendering on GitHub or <a href=\"https://nbviewer.jupyter.org/\">NBViewer</a>),\n",
       "  it may mean that your frontend doesn't currently support widgets.\n",
       "</p>\n"
      ],
      "text/plain": [
       "HBox(children=(IntProgress(value=0, description='Epoch', max=15), HTML(value='')))"
      ]
     },
     "metadata": {},
     "output_type": "display_data"
    },
    {
     "name": "stdout",
     "output_type": "stream",
     "text": [
      "epoch:   0, train_loss: 1.288536, val_loss: 0.033376, accuracy: 1.000000\n",
      "epoch:   1, train_loss: 1.070119, val_loss: 0.044764, accuracy: 1.000000\n",
      "epoch:   2, train_loss: 0.711613, val_loss: 0.099706, accuracy: 1.000000\n",
      "epoch:   3, train_loss: 0.672258, val_loss: 0.057846, accuracy: 1.000000\n",
      "epoch:   4, train_loss: 0.558888, val_loss: 0.035882, accuracy: 1.000000\n",
      "epoch:   5, train_loss: 0.446815, val_loss: 0.071348, accuracy: 1.000000\n",
      "epoch:   6, train_loss: 0.378389, val_loss: 0.073037, accuracy: 1.000000\n",
      "epoch:   7, train_loss: 0.425183, val_loss: 0.103671, accuracy: 1.000000\n",
      "epoch:   8, train_loss: 0.423628, val_loss: 0.229405, accuracy: 1.000000\n",
      "epoch:   9, train_loss: 0.364605, val_loss: 0.038667, accuracy: 1.000000\n",
      "epoch:  10, train_loss: 0.319660, val_loss: 0.025507, accuracy: 1.000000\n",
      "epoch:  11, train_loss: 0.292152, val_loss: 0.127161, accuracy: 1.000000\n",
      "epoch:  12, train_loss: 0.271341, val_loss: 0.065667, accuracy: 1.000000\n",
      "epoch:  13, train_loss: 0.227270, val_loss: 0.036110, accuracy: 1.000000\n",
      "epoch:  14, train_loss: 0.227286, val_loss: 0.025769, accuracy: 1.000000\n",
      "\n"
     ]
    }
   ],
   "source": [
    "learn.fit(.1, n_cycle=4, cycle_len=1, cycle_mult=2)"
   ]
  },
  {
   "cell_type": "code",
   "execution_count": 16,
   "metadata": {},
   "outputs": [
    {
     "data": {
      "image/png": "[encoded data removed]",
      "text/plain": [
       "<matplotlib.figure.Figure at 0x7fb66863a5c0>"
      ]
     },
     "metadata": {},
     "output_type": "display_data"
    }
   ],
   "source": [
    "learn.sched.plot_lr()"
   ]
  },
  {
   "cell_type": "markdown",
   "metadata": {},
   "source": [
    "now a few cycles of data augmentation - I should A/B test this"
   ]
  },
  {
   "cell_type": "code",
   "execution_count": 17,
   "metadata": {},
   "outputs": [
    {
     "data": {
      "application/vnd.jupyter.widget-view+json": {
       "model_id": "2971d652413e4f039b9f27432c1c85ef",
       "version_major": 2,
       "version_minor": 0
      },
      "text/html": [
       "<p>Failed to display Jupyter Widget of type <code>HBox</code>.</p>\n",
       "<p>\n",
       "  If you're reading this message in the Jupyter Notebook or JupyterLab Notebook, it may mean\n",
       "  that the widgets JavaScript is still loading. If this message persists, it\n",
       "  likely means that the widgets JavaScript library is either not installed or\n",
       "  not enabled. See the <a href=\"https://ipywidgets.readthedocs.io/en/stable/user_install.html\">Jupyter\n",
       "  Widgets Documentation</a> for setup instructions.\n",
       "</p>\n",
       "<p>\n",
       "  If you're reading this message in another frontend (for example, a static\n",
       "  rendering on GitHub or <a href=\"https://nbviewer.jupyter.org/\">NBViewer</a>),\n",
       "  it may mean that your frontend doesn't currently support widgets.\n",
       "</p>\n"
      ],
      "text/plain": [
       "HBox(children=(IntProgress(value=0, description='Epoch', max=7), HTML(value='')))"
      ]
     },
     "metadata": {},
     "output_type": "display_data"
    },
    {
     "name": "stdout",
     "output_type": "stream",
     "text": [
      "epoch:   0, train_loss: 0.536908, val_loss: 0.035681, accuracy: 1.000000\n",
      "epoch:   1, train_loss: 0.504692, val_loss: 0.056180, accuracy: 1.000000\n",
      "epoch:   2, train_loss: 0.494099, val_loss: 0.049894, accuracy: 1.000000\n",
      "epoch:   3, train_loss: 0.477862, val_loss: 0.058166, accuracy: 1.000000\n",
      "epoch:   4, train_loss: 0.483625, val_loss: 0.048515, accuracy: 1.000000\n",
      "epoch:   5, train_loss: 0.476418, val_loss: 0.054736, accuracy: 1.000000\n",
      "epoch:   6, train_loss: 0.458674, val_loss: 0.059870, accuracy: 1.000000\n",
      "\n"
     ]
    }
   ],
   "source": [
    "learn.precompute = False\n",
    "learn.fit(.01, n_cycle=3, cycle_len=1, cycle_mult=2)"
   ]
  },
  {
   "cell_type": "code",
   "execution_count": 18,
   "metadata": {},
   "outputs": [
    {
     "data": {
      "image/png": "[encoded data removed]",
      "text/plain": [
       "<matplotlib.figure.Figure at 0x7fb669adf2e8>"
      ]
     },
     "metadata": {},
     "output_type": "display_data"
    }
   ],
   "source": [
    "learn.sched.plot_lr()"
   ]
  },
  {
   "cell_type": "code",
   "execution_count": 19,
   "metadata": {},
   "outputs": [],
   "source": [
    "def model_save_load(filename):\n",
    "    save_or_load = input()\n",
    "    if save_or_load == 'save':\n",
    "        learn.save(filename)\n",
    "    if save_or_load == 'load':\n",
    "        learn.load(filename)"
   ]
  },
  {
   "cell_type": "code",
   "execution_count": null,
   "metadata": {},
   "outputs": [],
   "source": [
    "model_save_load('initial_training')"
   ]
  },
  {
   "cell_type": "code",
   "execution_count": 20,
   "metadata": {},
   "outputs": [],
   "source": [
    "learn.unfreeze()"
   ]
  },
  {
   "cell_type": "code",
   "execution_count": 21,
   "metadata": {},
   "outputs": [],
   "source": [
    "lr = .01"
   ]
  },
  {
   "cell_type": "code",
   "execution_count": 22,
   "metadata": {},
   "outputs": [
    {
     "data": {
      "application/vnd.jupyter.widget-view+json": {
       "model_id": "792a73d6d3a14b3c8c9da0e21c7e8cc6",
       "version_major": 2,
       "version_minor": 0
      },
      "text/html": [
       "<p>Failed to display Jupyter Widget of type <code>HBox</code>.</p>\n",
       "<p>\n",
       "  If you're reading this message in the Jupyter Notebook or JupyterLab Notebook, it may mean\n",
       "  that the widgets JavaScript is still loading. If this message persists, it\n",
       "  likely means that the widgets JavaScript library is either not installed or\n",
       "  not enabled. See the <a href=\"https://ipywidgets.readthedocs.io/en/stable/user_install.html\">Jupyter\n",
       "  Widgets Documentation</a> for setup instructions.\n",
       "</p>\n",
       "<p>\n",
       "  If you're reading this message in another frontend (for example, a static\n",
       "  rendering on GitHub or <a href=\"https://nbviewer.jupyter.org/\">NBViewer</a>),\n",
       "  it may mean that your frontend doesn't currently support widgets.\n",
       "</p>\n"
      ],
      "text/plain": [
       "HBox(children=(IntProgress(value=0, description='Epoch', max=7), HTML(value='')))"
      ]
     },
     "metadata": {},
     "output_type": "display_data"
    },
    {
     "name": "stdout",
     "output_type": "stream",
     "text": [
      "epoch:   0, train_loss: 0.474474, val_loss: 0.034284, accuracy: 1.000000\n",
      "epoch:   1, train_loss: 0.299142, val_loss: 0.024248, accuracy: 1.000000\n",
      "epoch:   2, train_loss: 0.200061, val_loss: 0.014761, accuracy: 1.000000\n",
      "epoch:   3, train_loss: 0.187284, val_loss: 0.072558, accuracy: 1.000000\n",
      "epoch:   4, train_loss: 0.146352, val_loss: 0.024144, accuracy: 1.000000\n",
      "epoch:   5, train_loss: 0.117857, val_loss: 0.014808, accuracy: 1.000000\n",
      "epoch:   6, train_loss: 0.108970, val_loss: 0.015632, accuracy: 1.000000\n",
      "\n"
     ]
    }
   ],
   "source": [
    "learn.fit([lr/9, lr/3, lr], n_cycle=3, cycle_len=1, cycle_mult=2)"
   ]
  },
  {
   "cell_type": "code",
   "execution_count": 23,
   "metadata": {},
   "outputs": [
    {
     "data": {
      "image/png": "[encoded data removed]",
      "text/plain": [
       "<matplotlib.figure.Figure at 0x7fb668577a20>"
      ]
     },
     "metadata": {},
     "output_type": "display_data"
    }
   ],
   "source": [
    "learn.sched.plot_lr()"
   ]
  },
  {
   "cell_type": "code",
   "execution_count": 24,
   "metadata": {},
   "outputs": [
    {
     "name": "stdout",
     "output_type": "stream",
     "text": [
      "save\n"
     ]
    }
   ],
   "source": [
    "model_save_load('resnet50_224')"
   ]
  },
  {
   "cell_type": "code",
   "execution_count": 25,
   "metadata": {},
   "outputs": [
    {
     "data": {
      "application/vnd.jupyter.widget-view+json": {
       "model_id": "a01964300a334b3aa96ab190c57028fe",
       "version_major": 2,
       "version_minor": 0
      },
      "text/html": [
       "<p>Failed to display Jupyter Widget of type <code>HBox</code>.</p>\n",
       "<p>\n",
       "  If you're reading this message in the Jupyter Notebook or JupyterLab Notebook, it may mean\n",
       "  that the widgets JavaScript is still loading. If this message persists, it\n",
       "  likely means that the widgets JavaScript library is either not installed or\n",
       "  not enabled. See the <a href=\"https://ipywidgets.readthedocs.io/en/stable/user_install.html\">Jupyter\n",
       "  Widgets Documentation</a> for setup instructions.\n",
       "</p>\n",
       "<p>\n",
       "  If you're reading this message in another frontend (for example, a static\n",
       "  rendering on GitHub or <a href=\"https://nbviewer.jupyter.org/\">NBViewer</a>),\n",
       "  it may mean that your frontend doesn't currently support widgets.\n",
       "</p>\n"
      ],
      "text/plain": [
       "HBox(children=(IntProgress(value=0, max=6), HTML(value='')))"
      ]
     },
     "metadata": {},
     "output_type": "display_data"
    },
    {
     "name": "stdout",
     "output_type": "stream",
     "text": [
      "\n"
     ]
    }
   ],
   "source": [
    "learn.set_data(get_data(299,32,arch,label_csv))\n",
    "learn.precompute = False\n",
    "learn.unfreeze()"
   ]
  },
  {
   "cell_type": "code",
   "execution_count": 26,
   "metadata": {},
   "outputs": [],
   "source": [
    "lr = .01"
   ]
  },
  {
   "cell_type": "code",
   "execution_count": 27,
   "metadata": {
    "scrolled": true
   },
   "outputs": [
    {
     "data": {
      "application/vnd.jupyter.widget-view+json": {
       "model_id": "2aa00e05323b4c1d882ea2c1ef73486d",
       "version_major": 2,
       "version_minor": 0
      },
      "text/html": [
       "<p>Failed to display Jupyter Widget of type <code>HBox</code>.</p>\n",
       "<p>\n",
       "  If you're reading this message in the Jupyter Notebook or JupyterLab Notebook, it may mean\n",
       "  that the widgets JavaScript is still loading. If this message persists, it\n",
       "  likely means that the widgets JavaScript library is either not installed or\n",
       "  not enabled. See the <a href=\"https://ipywidgets.readthedocs.io/en/stable/user_install.html\">Jupyter\n",
       "  Widgets Documentation</a> for setup instructions.\n",
       "</p>\n",
       "<p>\n",
       "  If you're reading this message in another frontend (for example, a static\n",
       "  rendering on GitHub or <a href=\"https://nbviewer.jupyter.org/\">NBViewer</a>),\n",
       "  it may mean that your frontend doesn't currently support widgets.\n",
       "</p>\n"
      ],
      "text/plain": [
       "HBox(children=(IntProgress(value=0, description='Epoch', max=7), HTML(value='')))"
      ]
     },
     "metadata": {},
     "output_type": "display_data"
    },
    {
     "name": "stdout",
     "output_type": "stream",
     "text": [
      "epoch:   0, train_loss: 0.188035, val_loss: 0.007355, accuracy: 1.000000\n",
      "epoch:   1, train_loss: 0.179518, val_loss: 0.029436, accuracy: 1.000000\n",
      "epoch:   2, train_loss: 0.120721, val_loss: 0.020514, accuracy: 1.000000\n",
      "epoch:   3, train_loss: 0.157036, val_loss: 0.156203, accuracy: 1.000000\n",
      "epoch:   4, train_loss: 0.112107, val_loss: 0.005205, accuracy: 1.000000\n",
      "epoch:   5, train_loss: 0.075675, val_loss: 0.059178, accuracy: 1.000000\n",
      "epoch:   6, train_loss: 0.063902, val_loss: 0.063752, accuracy: 1.000000\n",
      "\n"
     ]
    }
   ],
   "source": [
    "learn.fit([lr/9, lr/3, lr], n_cycle=3, cycle_len=1, cycle_mult=2)"
   ]
  },
  {
   "cell_type": "code",
   "execution_count": 28,
   "metadata": {},
   "outputs": [],
   "source": [
    "n_cycle = 5"
   ]
  },
  {
   "cell_type": "code",
   "execution_count": 29,
   "metadata": {
    "scrolled": true
   },
   "outputs": [
    {
     "data": {
      "application/vnd.jupyter.widget-view+json": {
       "model_id": "4850b6d0a27e4b30b8f7986b52715c70",
       "version_major": 2,
       "version_minor": 0
      },
      "text/html": [
       "<p>Failed to display Jupyter Widget of type <code>HBox</code>.</p>\n",
       "<p>\n",
       "  If you're reading this message in the Jupyter Notebook or JupyterLab Notebook, it may mean\n",
       "  that the widgets JavaScript is still loading. If this message persists, it\n",
       "  likely means that the widgets JavaScript library is either not installed or\n",
       "  not enabled. See the <a href=\"https://ipywidgets.readthedocs.io/en/stable/user_install.html\">Jupyter\n",
       "  Widgets Documentation</a> for setup instructions.\n",
       "</p>\n",
       "<p>\n",
       "  If you're reading this message in another frontend (for example, a static\n",
       "  rendering on GitHub or <a href=\"https://nbviewer.jupyter.org/\">NBViewer</a>),\n",
       "  it may mean that your frontend doesn't currently support widgets.\n",
       "</p>\n"
      ],
      "text/plain": [
       "HBox(children=(IntProgress(value=0, description='Epoch', max=20), HTML(value='')))"
      ]
     },
     "metadata": {},
     "output_type": "display_data"
    },
    {
     "name": "stdout",
     "output_type": "stream",
     "text": [
      "epoch:   0, train_loss: 0.097088, val_loss: 0.018319, accuracy: 1.000000\n",
      "epoch:   1, train_loss: 0.073988, val_loss: 0.034222, accuracy: 1.000000\n",
      "epoch:   2, train_loss: 0.055121, val_loss: 0.155578, accuracy: 1.000000\n",
      "epoch:   3, train_loss: 0.056097, val_loss: 0.142830, accuracy: 1.000000\n",
      "epoch:   4, train_loss: 0.077097, val_loss: 0.032986, accuracy: 1.000000\n",
      "epoch:   5, train_loss: 0.060424, val_loss: 0.406859, accuracy: 1.000000\n",
      "epoch:   6, train_loss: 0.038940, val_loss: 0.118100, accuracy: 1.000000\n",
      "epoch:   7, train_loss: 0.044501, val_loss: 0.129872, accuracy: 1.000000\n",
      "epoch:   8, train_loss: 0.054164, val_loss: 0.024628, accuracy: 1.000000\n",
      "epoch:   9, train_loss: 0.041293, val_loss: 0.442189, accuracy: 1.000000\n",
      "epoch:  10, train_loss: 0.036228, val_loss: 0.013837, accuracy: 1.000000\n",
      "epoch:  11, train_loss: 0.025590, val_loss: 0.014735, accuracy: 1.000000\n",
      "epoch:  12, train_loss: 0.041849, val_loss: 0.096907, accuracy: 1.000000\n",
      "epoch:  13, train_loss: 0.051811, val_loss: 0.068830, accuracy: 1.000000\n",
      "epoch:  14, train_loss: 0.042692, val_loss: 0.051069, accuracy: 1.000000\n",
      "epoch:  15, train_loss: 0.016167, val_loss: 0.089108, accuracy: 1.000000\n",
      "epoch:  16, train_loss: 0.036307, val_loss: 0.019895, accuracy: 1.000000\n",
      "epoch:  17, train_loss: 0.033507, val_loss: 0.015778, accuracy: 1.000000\n",
      "epoch:  18, train_loss: 0.017460, val_loss: 0.088021, accuracy: 1.000000\n",
      "epoch:  19, train_loss: 0.016155, val_loss: 0.143714, accuracy: 1.000000\n",
      "\n"
     ]
    }
   ],
   "source": [
    "learn.fit([lr/9, lr/3, lr], n_cycle=n_cycle, cycle_len=4, cycle_mult=1, cycle_save_name='ensemble')"
   ]
  },
  {
   "cell_type": "code",
   "execution_count": 30,
   "metadata": {},
   "outputs": [
    {
     "data": {
      "image/png": "[encoded data removed]",
      "text/plain": [
       "<matplotlib.figure.Figure at 0x7fb668723c18>"
      ]
     },
     "metadata": {},
     "output_type": "display_data"
    }
   ],
   "source": [
    "learn.sched.plot_lr()"
   ]
  },
  {
   "cell_type": "code",
   "execution_count": 42,
   "metadata": {},
   "outputs": [
    {
     "name": "stdout",
     "output_type": "stream",
     "text": [
      "                                             \r"
     ]
    }
   ],
   "source": [
    "log_preds_all = []\n",
    "for i in range(n_cycle):\n",
    "    learn.load(f'ensemble_cyc_{i}')\n",
    "    log_preds, _ = learn.TTA(is_test=True, n_aug=8)\n",
    "    log_preds = np.mean(log_preds, axis=0)\n",
    "    log_preds_all.append(log_preds)"
   ]
  },
  {
   "cell_type": "code",
   "execution_count": 43,
   "metadata": {},
   "outputs": [],
   "source": [
    "log_preds_mean = np.mean(np.array(log_preds_all), axis=0)"
   ]
  },
  {
   "cell_type": "code",
   "execution_count": 44,
   "metadata": {},
   "outputs": [],
   "source": [
    "preds = np.argmax(np.exp(log_preds_mean), axis=1)"
   ]
  },
  {
   "cell_type": "code",
   "execution_count": null,
   "metadata": {},
   "outputs": [],
   "source": [
    "# log_preds, _ = learn.TTA(is_test=False, n_aug=8)\n",
    "# log_preds = np.mean(log_preds, axis=0)\n",
    "# preds = np.argmax(np.exp(log_preds), axis=1)"
   ]
  },
  {
   "cell_type": "code",
   "execution_count": null,
   "metadata": {},
   "outputs": [],
   "source": [
    "cm = confusion_matrix(y, preds); cm"
   ]
  },
  {
   "cell_type": "code",
   "execution_count": null,
   "metadata": {},
   "outputs": [],
   "source": [
    "imr = ImageModelResults(data.val_ds, log_preds)"
   ]
  },
  {
   "cell_type": "code",
   "execution_count": null,
   "metadata": {},
   "outputs": [],
   "source": [
    "imr.plot_most_correct(0)"
   ]
  },
  {
   "cell_type": "code",
   "execution_count": null,
   "metadata": {},
   "outputs": [],
   "source": [
    "imr.plot_most_correct(6)"
   ]
  },
  {
   "cell_type": "code",
   "execution_count": null,
   "metadata": {},
   "outputs": [],
   "source": [
    "imr.plot_most_incorrect(0)"
   ]
  },
  {
   "cell_type": "code",
   "execution_count": null,
   "metadata": {},
   "outputs": [],
   "source": [
    "imr.plot_most_incorrect(6)"
   ]
  },
  {
   "cell_type": "code",
   "execution_count": null,
   "metadata": {},
   "outputs": [],
   "source": [
    "data.classes[0]"
   ]
  },
  {
   "cell_type": "code",
   "execution_count": null,
   "metadata": {},
   "outputs": [],
   "source": [
    "data.classes[6]"
   ]
  },
  {
   "cell_type": "code",
   "execution_count": null,
   "metadata": {},
   "outputs": [],
   "source": []
  },
  {
   "cell_type": "code",
   "execution_count": null,
   "metadata": {},
   "outputs": [],
   "source": [
    "# def test_predictions(learn):\n",
    "#     log_preds,y = learn.TTA(is_test=True, n_aug=8)\n",
    "#     probs = np.mean(np.exp(log_preds), axis=0)\n",
    "#     preds = np.argmax(probs, axis=1)\n",
    "#     return preds"
   ]
  },
  {
   "cell_type": "code",
   "execution_count": null,
   "metadata": {},
   "outputs": [],
   "source": [
    "# preds = test_predictions(learn)"
   ]
  },
  {
   "cell_type": "code",
   "execution_count": 45,
   "metadata": {},
   "outputs": [],
   "source": [
    "def kaggle_submit(PATH, preds, data, sub_num):\n",
    "    class_preds = [data.classes[x].replace('_', ' ') for x in preds]\n",
    "\n",
    "    assert(len(class_preds) == len(data.test_ds.fnames))\n",
    "\n",
    "    files = [x.split('/')[-1] for x in data.test_ds.fnames]\n",
    "\n",
    "    df = pd.DataFrame(list(zip(files, class_preds)))\n",
    "    df.columns = ['file', 'species']\n",
    "\n",
    "    submit_folder = os.path.join(PATH, 'submit')\n",
    "    submit_filepath = os.path.join(submit_folder, f'plant_submission{sub_num}.gz')\n",
    "    os.makedirs(submit_folder, exist_ok=True)\n",
    "    df.to_csv(submit_filepath, compression='gzip', index=False)\n",
    "    return submit_filepath"
   ]
  },
  {
   "cell_type": "code",
   "execution_count": 46,
   "metadata": {},
   "outputs": [
    {
     "name": "stdout",
     "output_type": "stream",
     "text": [
      "data/plant-seedlings-classification/submit/plant_submission0.gz\n"
     ]
    }
   ],
   "source": [
    "print(kaggle_submit(PATH, preds, data, '0'))"
   ]
  },
  {
   "cell_type": "code",
   "execution_count": null,
   "metadata": {},
   "outputs": [],
   "source": []
  }
 ],
 "metadata": {
  "kernelspec": {
   "display_name": "Python [conda env:fastai]",
   "language": "python",
   "name": "conda-env-fastai-py"
  },
  "language_info": {
   "codemirror_mode": {
    "name": "ipython",
    "version": 3
   },
   "file_extension": ".py",
   "mimetype": "text/x-python",
   "name": "python",
   "nbconvert_exporter": "python",
   "pygments_lexer": "ipython3",
   "version": "3.6.4"
  }
 },
 "nbformat": 4,
 "nbformat_minor": 2
}
