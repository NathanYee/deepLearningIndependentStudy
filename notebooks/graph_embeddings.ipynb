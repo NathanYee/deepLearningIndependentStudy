{
 "cells": [
  {
   "cell_type": "markdown",
   "metadata": {},
   "source": [
    "# Graph Embeddings"
   ]
  },
  {
   "cell_type": "markdown",
   "metadata": {},
   "source": [
    "## Introduction\n",
    "I recently learned that people are trying to use deep learning to solve problems from graph theory after a friend linked me the paper, [Learning Combinatorial Optimization Algorithms over Graphs](https://arxiv.org/pdf/1704.01665.pdf). I find this subject very interesting and want to explore it further. In this paper, I will try to create some simple graph representations by using vertex embeddings and a neural network. I am going to try to create what is essentially a lookup table using deep learning.\n",
    "\n",
    "This is also a great exercise for me to learn how to use PyTorch\n"
   ]
  },
  {
   "cell_type": "markdown",
   "metadata": {},
   "source": [
    "## Data\n",
    "To create the graph, I will use a simple dictionary of nodes that contains a set of the neighbors. I will also define a next function so we can get batches of data to train the neural network."
   ]
  },
  {
   "cell_type": "code",
   "execution_count": 1,
   "metadata": {},
   "outputs": [],
   "source": [
    "from random import sample, randint, choice"
   ]
  },
  {
   "cell_type": "code",
   "execution_count": 2,
   "metadata": {},
   "outputs": [],
   "source": [
    "import numpy as np"
   ]
  },
  {
   "cell_type": "code",
   "execution_count": 3,
   "metadata": {},
   "outputs": [],
   "source": [
    "class Graph:\n",
    "    def __init__(self, n_vert = 10, n_neigh = 3, bs=64):\n",
    "        \"\"\"\n",
    "        Initialize a graph object. Note that graph is not guaranteed to be\n",
    "        fully connected\n",
    "        \"\"\"\n",
    "        self.bs = bs\n",
    "        self.vertices = range(n_vert)\n",
    "        self.graph = {}\n",
    "        for v in self.vertices:\n",
    "            possible = set(self.vertices).difference({v}) # remove loops\n",
    "            edges = set(sample(possible, n_neigh)) # add n neighbors to each vertex\n",
    "            self.graph[v] = edges\n",
    "            \n",
    "    def pos_sample(self):\n",
    "        v = choice(self.vertices)\n",
    "        x = [v, choice(tuple(self.graph[v]))]\n",
    "        return x\n",
    "    \n",
    "    def neg_sample(self):\n",
    "        v = choice(self.vertices)\n",
    "        possible = set(self.vertices).difference(self.graph[v])\n",
    "        possible = possible.difference({v})\n",
    "        x = [v, choice(tuple(possible))]\n",
    "        return x\n",
    "    \n",
    "    def __iter__(self, bs=64):\n",
    "        \"\"\"\n",
    "        Set the batch size\n",
    "        \n",
    "        TODO: put this in init\n",
    "        \"\"\"\n",
    "        self.bs = bs\n",
    "        return self\n",
    "        \n",
    "    def __next__(self):\n",
    "        \"\"\"\n",
    "        Returns a batch of data for use in training. The vertices are randomly chosen\n",
    "        so it is not guaranteed that all vertices are in each training step - or that\n",
    "        every possible neighbor will be chosen. Positive and negative examples are \n",
    "        one hot encoded for simplicity\n",
    "        \"\"\"\n",
    "        n_pos = int(self.bs / 2)\n",
    "        n_neg = self.bs - n_pos\n",
    "        \n",
    "        pos = [[self.pos_sample(), [1, 0]] for _ in range(n_pos)]\n",
    "        neg = [[self.neg_sample(), [0, 1]] for _ in range(n_neg)]\n",
    "        X, Y = zip(*(pos + neg))\n",
    "        return X, Y"
   ]
  },
  {
   "cell_type": "code",
   "execution_count": 4,
   "metadata": {},
   "outputs": [],
   "source": [
    "n_vert = 10\n",
    "n_neigh = 3\n",
    "bs = 64\n",
    "graph = Graph(n_vert=n_vert, n_neigh=n_neigh, bs=bs)"
   ]
  },
  {
   "cell_type": "code",
   "execution_count": 5,
   "metadata": {},
   "outputs": [
    {
     "data": {
      "text/plain": [
       "{0: {1, 7, 9},\n",
       " 1: {5, 6, 7},\n",
       " 2: {0, 1, 8},\n",
       " 3: {0, 2, 9},\n",
       " 4: {2, 6, 7},\n",
       " 5: {0, 4, 8},\n",
       " 6: {1, 3, 7},\n",
       " 7: {1, 3, 5},\n",
       " 8: {0, 3, 6},\n",
       " 9: {0, 2, 3}}"
      ]
     },
     "execution_count": 5,
     "metadata": {},
     "output_type": "execute_result"
    }
   ],
   "source": [
    "graph.graph"
   ]
  },
  {
   "cell_type": "code",
   "execution_count": 6,
   "metadata": {},
   "outputs": [
    {
     "data": {
      "text/plain": [
       "(([0, 9], [5, 0], [6, 3]), ([1, 0], [1, 0], [1, 0]))"
      ]
     },
     "execution_count": 6,
     "metadata": {},
     "output_type": "execute_result"
    }
   ],
   "source": [
    "X, Y = next(graph)\n",
    "X[:3], Y[:3]"
   ]
  },
  {
   "cell_type": "code",
   "execution_count": null,
   "metadata": {},
   "outputs": [],
   "source": [
    "%timeit next(graph) # data is produced at "
   ]
  },
  {
   "cell_type": "code",
   "execution_count": null,
   "metadata": {},
   "outputs": [],
   "source": []
  }
 ],
 "metadata": {
  "kernelspec": {
   "display_name": "Python [conda env:fastai]",
   "language": "python",
   "name": "conda-env-fastai-py"
  },
  "language_info": {
   "codemirror_mode": {
    "name": "ipython",
    "version": 3
   },
   "file_extension": ".py",
   "mimetype": "text/x-python",
   "name": "python",
   "nbconvert_exporter": "python",
   "pygments_lexer": "ipython3",
   "version": "3.6.4"
  }
 },
 "nbformat": 4,
 "nbformat_minor": 2
}
